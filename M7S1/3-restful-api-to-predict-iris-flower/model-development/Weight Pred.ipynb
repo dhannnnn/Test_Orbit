{
 "cells": [
  {
   "cell_type": "code",
   "execution_count": 13,
   "metadata": {},
   "outputs": [
    {
     "name": "stdout",
     "output_type": "stream",
     "text": [
      "[WinError 2] The system cannot find the file specified: 'datasets'\n",
      "D:\\aim-technical\\M7S1\\3-restful-api-to-predict-iris-flower\\model-development\\datasets\n"
     ]
    }
   ],
   "source": [
    "%cd datasets"
   ]
  },
  {
   "cell_type": "code",
   "execution_count": 14,
   "metadata": {
    "executionInfo": {
     "elapsed": 1084,
     "status": "ok",
     "timestamp": 1649489732660,
     "user": {
      "displayName": "Dhany Umar",
      "userId": "08243393095794394046"
     },
     "user_tz": -420
    },
    "id": "MzS9o4MUjqJ2",
    "scrolled": true
   },
   "outputs": [],
   "source": [
    "import pandas as pd\n",
    "import numpy as np\n",
    "from sklearn.linear_model import LinearRegression, Ridge\n",
    "from sklearn.model_selection import train_test_split\n",
    "import joblib\n",
    "df= pd.read_csv('weight-height.csv')"
   ]
  },
  {
   "cell_type": "code",
   "execution_count": 15,
   "metadata": {
    "executionInfo": {
     "elapsed": 43,
     "status": "ok",
     "timestamp": 1649489732667,
     "user": {
      "displayName": "Dhany Umar",
      "userId": "08243393095794394046"
     },
     "user_tz": -420
    },
    "id": "32bdBsMZ5ilq"
   },
   "outputs": [],
   "source": [
    "df.columns = ['Gender', 'Weight', 'Height']"
   ]
  },
  {
   "cell_type": "code",
   "execution_count": 16,
   "metadata": {
    "colab": {
     "base_uri": "https://localhost:8080/"
    },
    "executionInfo": {
     "elapsed": 48,
     "status": "ok",
     "timestamp": 1649489732672,
     "user": {
      "displayName": "Dhany Umar",
      "userId": "08243393095794394046"
     },
     "user_tz": -420
    },
    "id": "1SLsjC376ANR",
    "outputId": "31bcd8ee-de38-4c1e-f8b9-99bcc050c767"
   },
   "outputs": [
    {
     "data": {
      "text/plain": [
       "array([1, 0])"
      ]
     },
     "execution_count": 16,
     "metadata": {},
     "output_type": "execute_result"
    }
   ],
   "source": [
    "df['Weight'] = df['Weight'].astype('int')\n",
    "df['Height'] = df['Height'].astype('int')\n",
    "\n",
    "from sklearn import preprocessing\n",
    " \n",
    "label_encoder = preprocessing.LabelEncoder()\n",
    "\n",
    "df['Gender']= label_encoder.fit_transform(df['Gender'])\n",
    " \n",
    "df['Gender'].unique()"
   ]
  },
  {
   "cell_type": "code",
   "execution_count": 17,
   "metadata": {
    "colab": {
     "base_uri": "https://localhost:8080/",
     "height": 207
    },
    "executionInfo": {
     "elapsed": 48,
     "status": "ok",
     "timestamp": 1649489732674,
     "user": {
      "displayName": "Dhany Umar",
      "userId": "08243393095794394046"
     },
     "user_tz": -420
    },
    "id": "iHhwr4x47eG4",
    "outputId": "6fd86623-86a0-4aae-9760-df710c783553"
   },
   "outputs": [
    {
     "data": {
      "text/html": [
       "<div>\n",
       "<style scoped>\n",
       "    .dataframe tbody tr th:only-of-type {\n",
       "        vertical-align: middle;\n",
       "    }\n",
       "\n",
       "    .dataframe tbody tr th {\n",
       "        vertical-align: top;\n",
       "    }\n",
       "\n",
       "    .dataframe thead th {\n",
       "        text-align: right;\n",
       "    }\n",
       "</style>\n",
       "<table border=\"1\" class=\"dataframe\">\n",
       "  <thead>\n",
       "    <tr style=\"text-align: right;\">\n",
       "      <th></th>\n",
       "      <th>Gender</th>\n",
       "      <th>Weight</th>\n",
       "      <th>Height</th>\n",
       "    </tr>\n",
       "  </thead>\n",
       "  <tbody>\n",
       "    <tr>\n",
       "      <th>0</th>\n",
       "      <td>1</td>\n",
       "      <td>73</td>\n",
       "      <td>241</td>\n",
       "    </tr>\n",
       "    <tr>\n",
       "      <th>1</th>\n",
       "      <td>1</td>\n",
       "      <td>68</td>\n",
       "      <td>162</td>\n",
       "    </tr>\n",
       "    <tr>\n",
       "      <th>2</th>\n",
       "      <td>1</td>\n",
       "      <td>74</td>\n",
       "      <td>212</td>\n",
       "    </tr>\n",
       "    <tr>\n",
       "      <th>3</th>\n",
       "      <td>1</td>\n",
       "      <td>71</td>\n",
       "      <td>220</td>\n",
       "    </tr>\n",
       "    <tr>\n",
       "      <th>4</th>\n",
       "      <td>1</td>\n",
       "      <td>69</td>\n",
       "      <td>206</td>\n",
       "    </tr>\n",
       "  </tbody>\n",
       "</table>\n",
       "</div>"
      ],
      "text/plain": [
       "   Gender  Weight  Height\n",
       "0       1      73     241\n",
       "1       1      68     162\n",
       "2       1      74     212\n",
       "3       1      71     220\n",
       "4       1      69     206"
      ]
     },
     "execution_count": 17,
     "metadata": {},
     "output_type": "execute_result"
    }
   ],
   "source": [
    "df.head()"
   ]
  },
  {
   "cell_type": "code",
   "execution_count": 27,
   "metadata": {
    "colab": {
     "base_uri": "https://localhost:8080/"
    },
    "executionInfo": {
     "elapsed": 46,
     "status": "ok",
     "timestamp": 1649489732674,
     "user": {
      "displayName": "Dhany Umar",
      "userId": "08243393095794394046"
     },
     "user_tz": -420
    },
    "id": "OMH4u2urnr__",
    "outputId": "0a0a50fb-8774-44c4-d611-af27aca77b76"
   },
   "outputs": [
    {
     "name": "stdout",
     "output_type": "stream",
     "text": [
      "0.8613821863861069\n"
     ]
    }
   ],
   "source": [
    "X = df[['Gender', 'Height']]\n",
    "\n",
    "y = df['Weight']\n",
    "X_train, X_test, y_train, y_test = train_test_split(X, y,test_size=0.2, random_state=15)\n",
    "model = LinearRegression()\n",
    "model = model.fit(X_train,y_train)\n",
    "y_pred = model.predict(X)\n",
    "print(model.score(X_test,y_test))"
   ]
  },
  {
   "cell_type": "code",
   "execution_count": 28,
   "metadata": {
    "executionInfo": {
     "elapsed": 392,
     "status": "ok",
     "timestamp": 1649489861494,
     "user": {
      "displayName": "Dhany Umar",
      "userId": "08243393095794394046"
     },
     "user_tz": -420
    },
    "id": "Zdg1aM3RCD2m"
   },
   "outputs": [],
   "source": [
    "Y_pred = model.predict(X)"
   ]
  },
  {
   "cell_type": "code",
   "execution_count": 29,
   "metadata": {
    "colab": {
     "base_uri": "https://localhost:8080/"
    },
    "executionInfo": {
     "elapsed": 350,
     "status": "ok",
     "timestamp": 1649489863519,
     "user": {
      "displayName": "Dhany Umar",
      "userId": "08243393095794394046"
     },
     "user_tz": -420
    },
    "id": "kmh-T-nCDZFT",
    "outputId": "1f940c90-b9f1-43cc-8c7d-66daf7b53419"
   },
   "outputs": [
    {
     "data": {
      "text/plain": [
       "0.8557194456696928"
      ]
     },
     "execution_count": 29,
     "metadata": {},
     "output_type": "execute_result"
    }
   ],
   "source": [
    "from sklearn.metrics import r2_score\n",
    "\n",
    "r2_score(y, y_pred)\n"
   ]
  },
  {
   "cell_type": "code",
   "execution_count": 30,
   "metadata": {
    "colab": {
     "base_uri": "https://localhost:8080/"
    },
    "executionInfo": {
     "elapsed": 337,
     "status": "ok",
     "timestamp": 1649489932055,
     "user": {
      "displayName": "Dhany Umar",
      "userId": "08243393095794394046"
     },
     "user_tz": -420
    },
    "id": "xNEDBPi5Jn4T",
    "outputId": "1a2cf788-fcbd-41c4-86ab-22f3c856ad68"
   },
   "outputs": [
    {
     "data": {
      "text/plain": [
       "['weight_pred_linear-reg.pkl']"
      ]
     },
     "execution_count": 30,
     "metadata": {},
     "output_type": "execute_result"
    }
   ],
   "source": [
    "joblib.dump((model), \"weight_pred_linear-reg.pkl\")"
   ]
  },
  {
   "cell_type": "code",
   "execution_count": null,
   "metadata": {},
   "outputs": [],
   "source": []
  }
 ],
 "metadata": {
  "colab": {
   "authorship_tag": "ABX9TyMtfSu8JJJp5ZsBFa1jt5+Y",
   "collapsed_sections": [],
   "name": "Weight Pred.ipynb",
   "provenance": [
    {
     "file_id": "1uuRL9Tx9pjDnk9LC6npMhdVCrJkQkvti",
     "timestamp": 1649481974424
    }
   ]
  },
  "kernelspec": {
   "display_name": "Python [conda env:flask] *",
   "language": "python",
   "name": "conda-env-flask-py"
  },
  "language_info": {
   "codemirror_mode": {
    "name": "ipython",
    "version": 3
   },
   "file_extension": ".py",
   "mimetype": "text/x-python",
   "name": "python",
   "nbconvert_exporter": "python",
   "pygments_lexer": "ipython3",
   "version": "3.8.12"
  }
 },
 "nbformat": 4,
 "nbformat_minor": 1
}
